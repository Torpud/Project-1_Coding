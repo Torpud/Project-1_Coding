{
  "nbformat": 4,
  "nbformat_minor": 0,
  "metadata": {
    "colab": {
      "provenance": [],
      "authorship_tag": "ABX9TyNcdZ9x98LyDlB18ogAwmGs",
      "include_colab_link": true
    },
    "kernelspec": {
      "name": "python3",
      "display_name": "Python 3"
    },
    "language_info": {
      "name": "python"
    }
  },
  "cells": [
    {
      "cell_type": "markdown",
      "metadata": {
        "id": "view-in-github",
        "colab_type": "text"
      },
      "source": [
        "<a href=\"https://colab.research.google.com/github/Torpud/Project-1_Coding/blob/main/30_khongkwan.ipynb\" target=\"_parent\"><img src=\"https://colab.research.google.com/assets/colab-badge.svg\" alt=\"Open In Colab\"/></a>"
      ]
    },
    {
      "cell_type": "markdown",
      "source": [
        "เลขที่ 30 ของขวัญ ทอปัด มีศิริ\n",
        "No.30 Khongkwan Torpud Meesiri"
      ],
      "metadata": {
        "id": "d-3hBlzHc43x"
      }
    },
    {
      "cell_type": "markdown",
      "source": [],
      "metadata": {
        "id": "iD2kINoJCEKJ"
      }
    },
    {
      "cell_type": "code",
      "source": [
        "print('Hello this is Khongkwan nice to meet you')"
      ],
      "metadata": {
        "colab": {
          "base_uri": "https://localhost:8080/"
        },
        "id": "zHsnEfR7AvMZ",
        "outputId": "c85f4e1d-d7b6-498e-edde-3ce6830877c4"
      },
      "execution_count": null,
      "outputs": [
        {
          "output_type": "stream",
          "name": "stdout",
          "text": [
            "Hello this is Khongkwan nice to meet you\n"
          ]
        }
      ]
    },
    {
      "cell_type": "code",
      "source": [
        "a = 2\n",
        "b = 3.5\n",
        "print(\"เมื่อวานฉันขาดทุน \" , a, \" % วันนี้ฉันได้กำไร \" , b, \" %\")"
      ],
      "metadata": {
        "colab": {
          "base_uri": "https://localhost:8080/"
        },
        "id": "C7yzNs1fFr8u",
        "outputId": "224ae3a0-827a-4b61-b1e0-7ff0f4abf389"
      },
      "execution_count": null,
      "outputs": [
        {
          "output_type": "stream",
          "name": "stdout",
          "text": [
            "เมื่อวานฉันขาดทุน  2  % วันนี้ฉันได้กำไร  3.5  %\n"
          ]
        }
      ]
    },
    {
      "cell_type": "markdown",
      "source": [
        "29 May 2024"
      ],
      "metadata": {
        "id": "ha-FfZM-Zoex"
      }
    },
    {
      "cell_type": "code",
      "source": [
        "a=2\n",
        "b=1.5\n",
        "c= 'Khongkwan'\n",
        "\n",
        "type(c)\n",
        "\n",
        "print('ตัวแปรที่ฉันคิดคือ k')"
      ],
      "metadata": {
        "id": "4ks80khDcRMw"
      },
      "execution_count": null,
      "outputs": []
    },
    {
      "cell_type": "markdown",
      "source": [
        "สรุปวันที่ 29/5/67\n",
        "ได้เรียนรู้เรื่องตัวแปร\n",
        "ตัวแปรต้องเป็นภาษาอังกฤษเท่านั้น ห้ามเป็นตัวเลขและภาษาไทย\n",
        "type บอกประเภทตัวแปร"
      ],
      "metadata": {
        "id": "ccqyYwYFiWKO"
      }
    },
    {
      "cell_type": "code",
      "source": [
        "numeric1=5\n",
        "print(numeric1)\n",
        "type(numeric1)"
      ],
      "metadata": {
        "colab": {
          "base_uri": "https://localhost:8080/"
        },
        "id": "wbmZfAEmkIgu",
        "outputId": "e5e0806d-ceb4-4ec5-bac0-945d6386e907"
      },
      "execution_count": null,
      "outputs": [
        {
          "output_type": "stream",
          "name": "stdout",
          "text": [
            "5\n"
          ]
        },
        {
          "output_type": "execute_result",
          "data": {
            "text/plain": [
              "int"
            ]
          },
          "metadata": {},
          "execution_count": 2
        }
      ]
    },
    {
      "cell_type": "markdown",
      "source": [
        "5 June 2024"
      ],
      "metadata": {
        "id": "SRMXNxSrWcPX"
      }
    },
    {
      "cell_type": "code",
      "source": [
        "string1= 'Python'\n",
        "print(string1[0])"
      ],
      "metadata": {
        "colab": {
          "base_uri": "https://localhost:8080/"
        },
        "id": "27jIt0p5YQuy",
        "outputId": "a31daaa1-032e-47b1-a793-71990f32c30c"
      },
      "execution_count": null,
      "outputs": [
        {
          "output_type": "stream",
          "name": "stdout",
          "text": [
            "P\n"
          ]
        }
      ]
    },
    {
      "cell_type": "markdown",
      "source": [
        "สรุป 5/6/67\n",
        "string คือ ตัวอักษร numeric คือ  ค่าตัวเลข\n",
        "ค่า index เริ่มนับจากศูนย์\n",
        "ยกตัวอย่างเช่น คำว่า Python P=0 y=1 t=2 h=3 o=4 n=5"
      ],
      "metadata": {
        "id": "uV708Dfubz9Z"
      }
    },
    {
      "cell_type": "markdown",
      "source": [
        "ความสัมพันธ์ของคอมพิวเตอร์กับการเขียนโปรแกรม\n",
        "input คือ โค้ดที่เราทำการพิมพ์ลงไป\n",
        "\n",
        "process คือ การที่คอมพิวเตอร์รันโค้ดที่เราทำการพิมพ์ลงไป\n",
        "\n",
        "output คือ ผลลัพธ์ที่ได้ คือ P"
      ],
      "metadata": {
        "id": "v5d7Lcvafwy0"
      }
    },
    {
      "cell_type": "markdown",
      "source": [
        "26 June 2024"
      ],
      "metadata": {
        "id": "uL5MR9rAuOS6"
      }
    },
    {
      "cell_type": "code",
      "source": [
        "name = input(\"type your name \")\n",
        "print(\"Hello\", name)"
      ],
      "metadata": {
        "colab": {
          "base_uri": "https://localhost:8080/"
        },
        "id": "TC9vunduuiRm",
        "outputId": "51d4b6c0-674b-424e-ed90-d06b5a9dd4d0"
      },
      "execution_count": null,
      "outputs": [
        {
          "output_type": "stream",
          "name": "stdout",
          "text": [
            "type your name Khongkwan\n",
            "Hello Khongkwan\n"
          ]
        }
      ]
    },
    {
      "cell_type": "code",
      "source": [
        "side = int(input(\"ความยาวด้าน (ซม.) เท่ากับ \"))\n",
        "area = side * side\n",
        "print(\"พื้นที่สี่เหลี่ยมเท่ากับ\",area,\"ตร.ซม.\")"
      ],
      "metadata": {
        "colab": {
          "base_uri": "https://localhost:8080/"
        },
        "id": "Kx1DgDMQyzph",
        "outputId": "f31c9cdc-df0e-4634-a118-a40d0e8e3bda"
      },
      "execution_count": null,
      "outputs": [
        {
          "output_type": "stream",
          "name": "stdout",
          "text": [
            "ความยาวด้าน (ซม.) เท่ากับ 5\n",
            "พื้นที่สี่เหลี่ยมเท่ากับ 25 ตร.ซม.\n"
          ]
        }
      ]
    },
    {
      "cell_type": "markdown",
      "source": [
        "1 July 2024"
      ],
      "metadata": {
        "id": "3GlYR-HbRLHX"
      }
    },
    {
      "cell_type": "code",
      "source": [
        "side = int(input(\"ความยาวด้าน (ซม.) เท่ากับ \"))\n",
        "width = int(input(\"ความกว้าง (ซม.) เท่ากับ \"))\n",
        "area = side * wide\n",
        "print(\"พื้นที่สี่เหลี่ยมผืนผ้าเท่ากับ\",area,\"ตร.ซม.\")"
      ],
      "metadata": {
        "colab": {
          "base_uri": "https://localhost:8080/"
        },
        "id": "A1UpM197Ppkg",
        "outputId": "6fc2d504-8b1f-4c8e-d096-d4022ca56082"
      },
      "execution_count": null,
      "outputs": [
        {
          "output_type": "stream",
          "name": "stdout",
          "text": [
            "ความยาวด้าน (ซม.) เท่ากับ 7\n",
            "ความกว้าง (ซม.) เท่ากับ 9\n",
            "พื้นที่สี่เหลี่ยมผืนผ้าเท่ากับ 63 ตร.ซม.\n"
          ]
        }
      ]
    },
    {
      "cell_type": "code",
      "source": [
        "s = int(input(\"ระยะทาง (เมตร) มีค่าเท่ากับ \"))\n",
        "t = int(input(\"เวลา (วินาที) เท่ากับ \"))\n",
        "v = s / t\n",
        "print(\"ความเร็วมีค่าเท่ากับ\" ,v, \"เมตร/วินาที\" )"
      ],
      "metadata": {
        "colab": {
          "base_uri": "https://localhost:8080/"
        },
        "id": "fU4JP04jRteI",
        "outputId": "ea461976-ab7c-4818-f0e2-e21519bfb38c"
      },
      "execution_count": null,
      "outputs": [
        {
          "output_type": "stream",
          "name": "stdout",
          "text": [
            "ระยะทาง (เมตร) มีค่าเท่ากับ 10\n",
            "เวลา (วินาที) เท่ากับ 20\n",
            "ความเร็วมีค่าเท่ากับ 0.5 เมตร/วินาที\n"
          ]
        }
      ]
    },
    {
      "cell_type": "code",
      "source": [
        "weight = float(input(\"น้ำหนักตัว (กก.) เท่ากับ \"))\n",
        "height = float(input(\"ส่วนสูง (เมตร) เท่ากับ \"))\n",
        "bmi = weight / height**2\n",
        "print(\"ค่าดัชนีมวลกายเท่ากับ \" ,bmi,)"
      ],
      "metadata": {
        "colab": {
          "base_uri": "https://localhost:8080/"
        },
        "id": "ZhBQ_204bMiU",
        "outputId": "905c2223-b690-4a35-ce2e-f24e92dcf63e"
      },
      "execution_count": null,
      "outputs": [
        {
          "output_type": "stream",
          "name": "stdout",
          "text": [
            "น้ำหนักตัว (กก.) เท่ากับ 39\n",
            "ส่วนสูง (เมตร) เท่ากับ 1.56\n",
            "ค่าดัชนีมวลกายเท่ากับ  16.025641025641026\n"
          ]
        }
      ]
    },
    {
      "cell_type": "code",
      "source": [
        "print(\"โปรแกรมคำนวณค่าดัชนีมวลกาย By Khongkwan eiei\")\n",
        "name = input(\"กรอกชื่อของคุณ \")\n",
        "print(\"hello\",name,)\n",
        "weight = float(input(\"น้ำหนักตัว (กก.) เท่ากับ \"))\n",
        "height = float(input(\"ส่วนสูง (เมตร) เท่ากับ \"))\n",
        "bmi = weight / height**2\n",
        "print(\"ค่าดัชนีมวลกายเท่ากับ \" ,bmi,)"
      ],
      "metadata": {
        "colab": {
          "base_uri": "https://localhost:8080/"
        },
        "id": "wTt6SUE9dHaQ",
        "outputId": "41aae146-2bcf-4386-c64c-9f4240ed1508"
      },
      "execution_count": null,
      "outputs": [
        {
          "output_type": "stream",
          "name": "stdout",
          "text": [
            "โปรแกรมคำนวณค่าดัชนีมวลกาย By Khongkwan eiei\n",
            "กรอกชื่อของคุณ ของขวัญ\n",
            "hello ของขวัญ\n",
            "น้ำหนักตัว (กก.) เท่ากับ 39\n",
            "ส่วนสูง (เมตร) เท่ากับ 1.56\n",
            "ค่าดัชนีมวลกายเท่ากับ  16.025641025641026\n"
          ]
        }
      ]
    },
    {
      "cell_type": "code",
      "source": [
        "def calculate_molecules(N) :\n",
        "  return N / (6.02 * 10**23)\n",
        "N = float(input(\"กรอกจำนวนโมล\"))\n",
        "print(f\"จำนวนโมเลกุลเท่ากับ {calculate_molecules(N):.2e} โมเลกุล\")"
      ],
      "metadata": {
        "colab": {
          "base_uri": "https://localhost:8080/"
        },
        "id": "CDeM4ca840N5",
        "outputId": "6c836436-b270-4b70-dde5-678861abc03c"
      },
      "execution_count": null,
      "outputs": [
        {
          "output_type": "stream",
          "name": "stdout",
          "text": [
            "กรอกจำนวนโมล120\n",
            "จำนวนโมเลกุลเท่ากับ 1.99e-22 โมเลกุล\n"
          ]
        }
      ]
    }
  ]
}